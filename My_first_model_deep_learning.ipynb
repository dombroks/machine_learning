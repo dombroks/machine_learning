{
  "nbformat": 4,
  "nbformat_minor": 0,
  "metadata": {
    "colab": {
      "name": "My_first_model.ipynb",
      "provenance": []
    },
    "kernelspec": {
      "name": "python3",
      "display_name": "Python 3"
    }
  },
  "cells": [
    {
      "cell_type": "code",
      "metadata": {
        "id": "ltCGo5GIzfVP",
        "colab_type": "code",
        "colab": {
          "base_uri": "https://localhost:8080/",
          "height": 204
        },
        "outputId": "2aab051a-854e-4bbd-8c41-a27b19671918"
      },
      "source": [
        "import sys\n",
        "import numpy as np\n",
        "import pandas as pd\n",
        "import seaborn as sns\n",
        "import sklearn\n",
        "import keras\n",
        "from keras.models import Sequential\n",
        "from keras.layers import Dense\n",
        "from keras.optimizers import Adam\n",
        "from sklearn import model_selection\n",
        "from keras.utils.np_utils import to_categorical\n",
        "import matplotlib\n",
        "import matplotlib.pyplot as plt\n",
        "from sklearn.metrics import accuracy_score,classification_report\n",
        "\n",
        "\n",
        "\n",
        "\n",
        "dataa=pd.read_csv('heart.csv')\n",
        "data=data.apply(pd.to_numeric)\n",
        "X=np.array(data.drop(['target'],1))\n",
        "y=data['target']\n",
        "\n",
        "X_train, X_test, y_train,y_test=model_selection.train_test_split(X,y,test_size=0.2)\n",
        "\n",
        "Y_train=to_categorical(y_train,num_classes=None)\n",
        "Y_test=to_categorical(y_test,num_classes=None)\n",
        "print(Y_train.shape)\n",
        "print(Y_train[:10])\n",
        "\n"
      ],
      "execution_count": 69,
      "outputs": [
        {
          "output_type": "stream",
          "text": [
            "(242, 2)\n",
            "[[0. 1.]\n",
            " [0. 1.]\n",
            " [0. 1.]\n",
            " [0. 1.]\n",
            " [1. 0.]\n",
            " [0. 1.]\n",
            " [0. 1.]\n",
            " [1. 0.]\n",
            " [1. 0.]\n",
            " [1. 0.]]\n"
          ],
          "name": "stdout"
        }
      ]
    },
    {
      "cell_type": "code",
      "metadata": {
        "id": "cUsHNPiTLiVv",
        "colab_type": "code",
        "colab": {}
      },
      "source": [
        "def create_model():\n",
        "  model=Sequential()\n",
        "  model.add(Dense(16,input_dim=13,kernel_initializer='normal',activation='relu'))\n",
        "  model.add(Dense(8,kernel_initializer='normal',activation='relu'))\n",
        "  model.add(Dense(2,activation='softmax'))\n",
        "#compile the model\n",
        "  adam=Adam(lr=0.001)\n",
        "  model.compile(loss='categorical_crossentropy',optimizer=adam,metrics=['accuracy'])\n",
        "  return model\n",
        "\n",
        "\n",
        "\n"
      ],
      "execution_count": 0,
      "outputs": []
    },
    {
      "cell_type": "code",
      "metadata": {
        "id": "IptXQUg2Ppjj",
        "colab_type": "code",
        "colab": {}
      },
      "source": [
        "model=create_model()  \n",
        "print(model.summary())\n",
        "history=model.fit(X_train,Y_train,validation_data=(X_test,Y_test),epochs=200,batch_size=10,verbose=10)"
      ],
      "execution_count": 0,
      "outputs": []
    },
    {
      "cell_type": "code",
      "metadata": {
        "id": "JRFeWi2VQQ2X",
        "colab_type": "code",
        "colab": {
          "base_uri": "https://localhost:8080/",
          "height": 34
        },
        "outputId": "3d2d5b43-fce6-4f5f-d263-4113729af36a"
      },
      "source": [
        "ct=np.argmax(model.predict(X_test),axis=1)\n",
        "print(accuracy_score(y_test,ct))"
      ],
      "execution_count": 71,
      "outputs": [
        {
          "output_type": "stream",
          "text": [
            "0.8524590163934426\n"
          ],
          "name": "stdout"
        }
      ]
    }
  ]
}
