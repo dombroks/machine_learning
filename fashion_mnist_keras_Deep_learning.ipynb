{
  "nbformat": 4,
  "nbformat_minor": 0,
  "metadata": {
    "colab": {
      "name": "fashion_mnist/keras/Deep_learning.ipynb",
      "provenance": [],
      "authorship_tag": "ABX9TyO5zTCYaV2qFWnmm2ciRl7P",
      "include_colab_link": true
    },
    "kernelspec": {
      "name": "python3",
      "display_name": "Python 3"
    }
  },
  "cells": [
    {
      "cell_type": "markdown",
      "metadata": {
        "id": "view-in-github",
        "colab_type": "text"
      },
      "source": [
        "<a href=\"https://colab.research.google.com/github/dombroks/machine_learning/blob/master/fashion_mnist_keras_Deep_learning.ipynb\" target=\"_parent\"><img src=\"https://colab.research.google.com/assets/colab-badge.svg\" alt=\"Open In Colab\"/></a>"
      ]
    },
    {
      "cell_type": "code",
      "metadata": {
        "id": "dLn1n0D0TaFs",
        "colab_type": "code",
        "colab": {}
      },
      "source": [
        "import tensorflow.keras as ks\n",
        "import tensorflow as tf\n",
        "import matplotlib.pyplot as plt\n",
        "import numpy as np\n",
        "import pandas as pd\n",
        "\n",
        "\n",
        "%matplotlib inline\n",
        "\n",
        "fashion_mnist=ks.datasets.fashion_mnist"
      ],
      "execution_count": 0,
      "outputs": []
    },
    {
      "cell_type": "code",
      "metadata": {
        "id": "tvGQDR3wN2br",
        "colab_type": "code",
        "colab": {}
      },
      "source": [
        "(image_train,label_train),(image_test,label_test)=fashion_mnist.load_data()\n",
        "image_train , image_test = image_train/255.0 , image_test/255.0"
      ],
      "execution_count": 0,
      "outputs": []
    },
    {
      "cell_type": "code",
      "metadata": {
        "id": "rcBYg5s6O78R",
        "colab_type": "code",
        "colab": {}
      },
      "source": [
        "names=['T-shirt/top','Pullover','Trouser','Coat','Sandal','Shirt','Sneaker','Bag','Ankle boot','Dress']"
      ],
      "execution_count": 0,
      "outputs": []
    },
    {
      "cell_type": "code",
      "metadata": {
        "id": "Ct7Ye0mrSTEr",
        "colab_type": "code",
        "colab": {
          "base_uri": "https://localhost:8080/",
          "height": 51
        },
        "outputId": "1e0cebca-e5dd-41c6-cbbf-e7bce9cffaaa"
      },
      "source": [
        "print(len(image_train),len(image_test))\n",
        "print(image_train.shape)"
      ],
      "execution_count": 48,
      "outputs": [
        {
          "output_type": "stream",
          "text": [
            "60000 10000\n",
            "(60000, 28, 28)\n"
          ],
          "name": "stdout"
        }
      ]
    },
    {
      "cell_type": "code",
      "metadata": {
        "id": "52GuMIgcTgiP",
        "colab_type": "code",
        "colab": {}
      },
      "source": [
        "model=ks.models.Sequential([ks.layers.Flatten(input_shape=(28,28)),\n",
        "                            ks.layers.Dense(128,activation=tf.nn.relu),\n",
        "                            ks.layers.Dense(10,activation=tf.nn.softmax)]\n",
        "                           )\n"
      ],
      "execution_count": 0,
      "outputs": []
    },
    {
      "cell_type": "code",
      "metadata": {
        "id": "citZE2m6V3MR",
        "colab_type": "code",
        "colab": {
          "base_uri": "https://localhost:8080/",
          "height": 102
        },
        "outputId": "466177ba-db62-4d6e-9042-0a6d24b66d37"
      },
      "source": [
        "model.compile(optimizer='adam',loss='sparse_categorical_crossentropy',metrics=['accuracy'])\n",
        "model.fit(image_train,label_train,epochs=2)"
      ],
      "execution_count": 53,
      "outputs": [
        {
          "output_type": "stream",
          "text": [
            "Epoch 1/2\n",
            "1875/1875 [==============================] - 4s 2ms/step - loss: 0.4979 - accuracy: 0.8259\n",
            "Epoch 2/2\n",
            "1875/1875 [==============================] - 3s 2ms/step - loss: 0.3761 - accuracy: 0.8647\n"
          ],
          "name": "stdout"
        },
        {
          "output_type": "execute_result",
          "data": {
            "text/plain": [
              "<tensorflow.python.keras.callbacks.History at 0x7f46631ff208>"
            ]
          },
          "metadata": {
            "tags": []
          },
          "execution_count": 53
        }
      ]
    },
    {
      "cell_type": "code",
      "metadata": {
        "id": "qtGGNGnYWwZB",
        "colab_type": "code",
        "colab": {
          "base_uri": "https://localhost:8080/",
          "height": 51
        },
        "outputId": "1b0a58b2-9150-4a7b-ba42-a2b4fb11eb9f"
      },
      "source": [
        "model.evaluate(image_test,label_test)"
      ],
      "execution_count": 54,
      "outputs": [
        {
          "output_type": "stream",
          "text": [
            "313/313 [==============================] - 0s 1ms/step - loss: 0.3946 - accuracy: 0.8596\n"
          ],
          "name": "stdout"
        },
        {
          "output_type": "execute_result",
          "data": {
            "text/plain": [
              "[0.39459550380706787, 0.8596000075340271]"
            ]
          },
          "metadata": {
            "tags": []
          },
          "execution_count": 54
        }
      ]
    }
  ]
}