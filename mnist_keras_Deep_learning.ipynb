{
  "nbformat": 4,
  "nbformat_minor": 0,
  "metadata": {
    "colab": {
      "name": "mnist/keras/Deep_learning.ipynb",
      "provenance": [],
      "authorship_tag": "ABX9TyOvzAJmE06SpSbfTeu5GMIY",
      "include_colab_link": true
    },
    "kernelspec": {
      "name": "python3",
      "display_name": "Python 3"
    }
  },
  "cells": [
    {
      "cell_type": "markdown",
      "metadata": {
        "id": "view-in-github",
        "colab_type": "text"
      },
      "source": [
        "<a href=\"https://colab.research.google.com/github/dombroks/machine_learning/blob/master/mnist_keras_Deep_learning.ipynb\" target=\"_parent\"><img src=\"https://colab.research.google.com/assets/colab-badge.svg\" alt=\"Open In Colab\"/></a>"
      ]
    },
    {
      "cell_type": "code",
      "metadata": {
        "id": "dLn1n0D0TaFs",
        "colab_type": "code",
        "colab": {}
      },
      "source": [
        "import tensorflow.keras as ks\n",
        "import tensorflow as tf\n",
        "\n",
        "mnist=ks.datasets.mnist"
      ],
      "execution_count": 0,
      "outputs": []
    },
    {
      "cell_type": "code",
      "metadata": {
        "id": "XCtZAHL2UFsX",
        "colab_type": "code",
        "colab": {}
      },
      "source": [
        "(x_train,y_train),(x_test,y_test)=mnist.load_data()\n",
        "x_train,x_test=x_train / 255.0,x_test / 255.0\n"
      ],
      "execution_count": 0,
      "outputs": []
    },
    {
      "cell_type": "code",
      "metadata": {
        "id": "RQ9ppV7NcTk0",
        "colab_type": "code",
        "colab": {}
      },
      "source": [
        "model=ks.models.Sequential([\n",
        "                            ks.layers.Flatten(input_shape=(28,28)),\n",
        "                            ks.layers.Dense(512,activation=tf.nn.relu),\n",
        "                            ks.layers.Dropout(0.2),\n",
        "                            ks.layers.Dense(10,activation=tf.nn.softmax)\n",
        "])"
      ],
      "execution_count": 0,
      "outputs": []
    },
    {
      "cell_type": "code",
      "metadata": {
        "id": "yJbhiNp-vYFu",
        "colab_type": "code",
        "colab": {}
      },
      "source": [
        "model.compile(optimizer='adam',loss='sparse_categorical_crossentropy',metrics=['accuracy'])"
      ],
      "execution_count": 0,
      "outputs": []
    },
    {
      "cell_type": "code",
      "metadata": {
        "id": "BvGFes881QxU",
        "colab_type": "code",
        "colab": {
          "base_uri": "https://localhost:8080/",
          "height": 136
        },
        "outputId": "ded4c919-b16c-485f-a6b8-1d62f9b3fb8e"
      },
      "source": [
        "model.fit(x_train,y_train,epochs=3)"
      ],
      "execution_count": 22,
      "outputs": [
        {
          "output_type": "stream",
          "text": [
            "Epoch 1/3\n",
            "1875/1875 [==============================] - 7s 4ms/step - loss: 0.2218 - accuracy: 0.9342\n",
            "Epoch 2/3\n",
            "1875/1875 [==============================] - 7s 3ms/step - loss: 0.0982 - accuracy: 0.9697\n",
            "Epoch 3/3\n",
            "1875/1875 [==============================] - 7s 4ms/step - loss: 0.0694 - accuracy: 0.9783\n"
          ],
          "name": "stdout"
        },
        {
          "output_type": "execute_result",
          "data": {
            "text/plain": [
              "<tensorflow.python.keras.callbacks.History at 0x7f46677ef438>"
            ]
          },
          "metadata": {
            "tags": []
          },
          "execution_count": 22
        }
      ]
    },
    {
      "cell_type": "code",
      "metadata": {
        "id": "B265G1f92a7A",
        "colab_type": "code",
        "colab": {
          "base_uri": "https://localhost:8080/",
          "height": 51
        },
        "outputId": "f5425c10-b967-4e4b-f886-4928432a4e8b"
      },
      "source": [
        "model.evaluate(x_test,y_test\n",
        "            )"
      ],
      "execution_count": 23,
      "outputs": [
        {
          "output_type": "stream",
          "text": [
            "313/313 [==============================] - 1s 2ms/step - loss: 0.0672 - accuracy: 0.9776\n"
          ],
          "name": "stdout"
        },
        {
          "output_type": "execute_result",
          "data": {
            "text/plain": [
              "[0.06722523272037506, 0.9775999784469604]"
            ]
          },
          "metadata": {
            "tags": []
          },
          "execution_count": 23
        }
      ]
    }
  ]
}